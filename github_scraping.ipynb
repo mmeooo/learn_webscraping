{
 "cells": [
  {
   "cell_type": "code",
   "execution_count": 1,
   "id": "0a8571e3",
   "metadata": {},
   "outputs": [],
   "source": [
    "from selenium import webdriver"
   ]
  },
  {
   "cell_type": "code",
   "execution_count": 2,
   "id": "005b3819",
   "metadata": {},
   "outputs": [],
   "source": [
    "# 크롬을 사용하겠다. 현재 크롬 경로\n",
    "browser= webdriver.Chrome('./chromedriver.exe')\n",
    "# 가져올 브라우저 주소\n",
    "browser.get('https://github.com/login')"
   ]
  },
  {
   "cell_type": "markdown",
   "id": "83cebbeb",
   "metadata": {},
   "source": [
    "* ID:  input#login_field\n",
    "* PASSWORD:  input#password/   \n",
    "* BUTTON:  input[type=\"submit\"]\n",
    "* 태그 쓸 때 이름은 # 붙이고, 속성은 [  ]안에 쓰기\n",
    "* 태그 이름을 명확하게 알고 싶으면 ctrl+F 쓰고 검색해보기"
   ]
  },
  {
   "cell_type": "code",
   "execution_count": 3,
   "id": "06efe5e5",
   "metadata": {},
   "outputs": [],
   "source": [
    "# 리스트 객체이므로 원소가 1개여도 [0]해야함\n",
    "browser.find_elements_by_css_selector('input#login_field')[0].send_keys('')"
   ]
  },
  {
   "cell_type": "code",
   "execution_count": 4,
   "id": "4d0f035c",
   "metadata": {},
   "outputs": [],
   "source": [
    "browser.find_elements_by_css_selector('input#password')[0].send_keys('')"
   ]
  },
  {
   "cell_type": "code",
   "execution_count": 5,
   "id": "a8a0503b",
   "metadata": {},
   "outputs": [],
   "source": [
    "browser.find_elements_by_css_selector('input[type=\"submit\"]')[0].click()"
   ]
  },
  {
   "cell_type": "code",
   "execution_count": 6,
   "id": "f2a151e0",
   "metadata": {},
   "outputs": [],
   "source": [
    "browser.get('https://github.com/mmeooo/test_webscraping')"
   ]
  },
  {
   "cell_type": "code",
   "execution_count": 31,
   "id": "5a46230b",
   "metadata": {},
   "outputs": [],
   "source": [
    "from bs4 import BeautifulSoup"
   ]
  },
  {
   "cell_type": "code",
   "execution_count": 32,
   "id": "9dee276d",
   "metadata": {},
   "outputs": [],
   "source": [
    "# parser: 구조화시키기 위해\n",
    "html= BeautifulSoup(browser.page_source, 'html.parser' )"
   ]
  },
  {
   "cell_type": "code",
   "execution_count": 33,
   "id": "bdaf7cc9",
   "metadata": {},
   "outputs": [
    {
     "data": {
      "text/plain": [
       "(bs4.element.ResultSet, 20)"
      ]
     },
     "execution_count": 33,
     "metadata": {},
     "output_type": "execute_result"
    }
   ],
   "source": [
    "tags= html.select('div[role=\"row\"].Box-row')\n",
    "type(tags), len(tags)"
   ]
  },
  {
   "cell_type": "markdown",
   "id": "ee22a9b1",
   "metadata": {},
   "source": [
    "*제목: span> a[class= \"js-navigation-open Link--primary\"]\n",
    "*커밋메세지: span>a[data-pjax=\"true\"]"
   ]
  },
  {
   "cell_type": "code",
   "execution_count": 34,
   "id": "33cc6fc6",
   "metadata": {},
   "outputs": [],
   "source": [
    "tag= tags[0]"
   ]
  },
  {
   "cell_type": "code",
   "execution_count": 35,
   "id": "5b2c733e",
   "metadata": {},
   "outputs": [
    {
     "data": {
      "text/plain": [
       "(1, bs4.element.ResultSet)"
      ]
     },
     "execution_count": 35,
     "metadata": {},
     "output_type": "execute_result"
    }
   ],
   "source": [
    "title= tag.select('a[class= \"js-navigation-open Link--primary\"]')\n",
    "len(title), type(title)"
   ]
  },
  {
   "cell_type": "code",
   "execution_count": 36,
   "id": "eaa0b842",
   "metadata": {},
   "outputs": [
    {
     "data": {
      "text/plain": [
       "(<a class=\"js-navigation-open Link--primary\" data-pjax=\"#repo-content-pjax-container\" href=\"/mmeooo/test_webscraping/tree/master/.idea\" title=\".idea\">.idea</a>,\n",
       " bs4.element.Tag)"
      ]
     },
     "execution_count": 36,
     "metadata": {},
     "output_type": "execute_result"
    }
   ],
   "source": [
    "title[0], type(title[0])"
   ]
  },
  {
   "cell_type": "code",
   "execution_count": 37,
   "id": "ce85df98",
   "metadata": {},
   "outputs": [
    {
     "data": {
      "text/plain": [
       "'.idea'"
      ]
     },
     "execution_count": 37,
     "metadata": {},
     "output_type": "execute_result"
    }
   ],
   "source": [
    "title[0].text.strip()"
   ]
  },
  {
   "cell_type": "code",
   "execution_count": 38,
   "id": "8c184d48",
   "metadata": {},
   "outputs": [
    {
     "data": {
      "text/plain": [
       "(1, bs4.element.ResultSet)"
      ]
     },
     "execution_count": 38,
     "metadata": {},
     "output_type": "execute_result"
    }
   ],
   "source": [
    "message= tag.select('span>a[data-pjax=\"true\"]')\n",
    "len(message), type(message)"
   ]
  },
  {
   "cell_type": "code",
   "execution_count": 39,
   "id": "2f62a9ea",
   "metadata": {},
   "outputs": [
    {
     "data": {
      "text/plain": [
       "'first commit'"
      ]
     },
     "execution_count": 39,
     "metadata": {},
     "output_type": "execute_result"
    }
   ],
   "source": [
    "message[0].text.strip()"
   ]
  },
  {
   "cell_type": "code",
   "execution_count": 40,
   "id": "0a77f843",
   "metadata": {},
   "outputs": [],
   "source": [
    "date= tag.select('time-ago')"
   ]
  },
  {
   "cell_type": "code",
   "execution_count": 41,
   "id": "59a56066",
   "metadata": {},
   "outputs": [
    {
     "data": {
      "text/plain": [
       "(<time-ago class=\"no-wrap\" data-view-component=\"true\" datetime=\"2021-06-24T04:42:57Z\" title=\"2021년 6월 24일 오후 1:42 GMT+9\">5 days ago</time-ago>,\n",
       " bs4.element.Tag)"
      ]
     },
     "execution_count": 41,
     "metadata": {},
     "output_type": "execute_result"
    }
   ],
   "source": [
    "date[0], type(date[0])"
   ]
  },
  {
   "cell_type": "code",
   "execution_count": 42,
   "id": "9e8dc6b0",
   "metadata": {},
   "outputs": [
    {
     "data": {
      "text/plain": [
       "'5 days ago'"
      ]
     },
     "execution_count": 42,
     "metadata": {},
     "output_type": "execute_result"
    }
   ],
   "source": [
    "date[0].text.strip()"
   ]
  },
  {
   "cell_type": "code",
   "execution_count": 43,
   "id": "c9e570a8",
   "metadata": {},
   "outputs": [],
   "source": [
    "contents= list()\n",
    "for tag in tags:\n",
    "    title= tag.select('a[class= \"js-navigation-open Link--primary\"]')\n",
    "    message= tag.select('span>a[data-pjax=\"true\"]')\n",
    "    date= tag.select('time-ago')\n",
    "    contents.append([title[0].text.strip(), message[0].text.strip(), date[0].text.strip()])"
   ]
  },
  {
   "cell_type": "code",
   "execution_count": 44,
   "id": "8d7bcd78",
   "metadata": {},
   "outputs": [],
   "source": [
    "import pandas as pd"
   ]
  },
  {
   "cell_type": "code",
   "execution_count": 45,
   "id": "0c8769f1",
   "metadata": {},
   "outputs": [
    {
     "data": {
      "text/html": [
       "<div>\n",
       "<style scoped>\n",
       "    .dataframe tbody tr th:only-of-type {\n",
       "        vertical-align: middle;\n",
       "    }\n",
       "\n",
       "    .dataframe tbody tr th {\n",
       "        vertical-align: top;\n",
       "    }\n",
       "\n",
       "    .dataframe thead th {\n",
       "        text-align: right;\n",
       "    }\n",
       "</style>\n",
       "<table border=\"1\" class=\"dataframe\">\n",
       "  <thead>\n",
       "    <tr style=\"text-align: right;\">\n",
       "      <th></th>\n",
       "      <th>0</th>\n",
       "      <th>1</th>\n",
       "      <th>2</th>\n",
       "    </tr>\n",
       "  </thead>\n",
       "  <tbody>\n",
       "    <tr>\n",
       "      <th>0</th>\n",
       "      <td>.idea</td>\n",
       "      <td>first commit</td>\n",
       "      <td>5 days ago</td>\n",
       "    </tr>\n",
       "    <tr>\n",
       "      <th>1</th>\n",
       "      <td>files</td>\n",
       "      <td>third commit</td>\n",
       "      <td>5 days ago</td>\n",
       "    </tr>\n",
       "    <tr>\n",
       "      <th>2</th>\n",
       "      <td>saves</td>\n",
       "      <td>seventh commit</td>\n",
       "      <td>4 days ago</td>\n",
       "    </tr>\n",
       "    <tr>\n",
       "      <th>3</th>\n",
       "      <td>.gitignore</td>\n",
       "      <td>Initial commit</td>\n",
       "      <td>5 days ago</td>\n",
       "    </tr>\n",
       "    <tr>\n",
       "      <th>4</th>\n",
       "      <td>LICENSE</td>\n",
       "      <td>Initial commit</td>\n",
       "      <td>5 days ago</td>\n",
       "    </tr>\n",
       "    <tr>\n",
       "      <th>5</th>\n",
       "      <td>README.md</td>\n",
       "      <td>Initial commit</td>\n",
       "      <td>5 days ago</td>\n",
       "    </tr>\n",
       "    <tr>\n",
       "      <th>6</th>\n",
       "      <td>beautifulsoup_htmlload.ipynb</td>\n",
       "      <td>third commit</td>\n",
       "      <td>5 days ago</td>\n",
       "    </tr>\n",
       "    <tr>\n",
       "      <th>7</th>\n",
       "      <td>bs_tags.ipynb</td>\n",
       "      <td>third commit</td>\n",
       "      <td>5 days ago</td>\n",
       "    </tr>\n",
       "    <tr>\n",
       "      <th>8</th>\n",
       "      <td>chromedriver.exe</td>\n",
       "      <td>fourth commit</td>\n",
       "      <td>4 days ago</td>\n",
       "    </tr>\n",
       "    <tr>\n",
       "      <th>9</th>\n",
       "      <td>genie_scraping.ipynb</td>\n",
       "      <td>seventh commit</td>\n",
       "      <td>4 days ago</td>\n",
       "    </tr>\n",
       "    <tr>\n",
       "      <th>10</th>\n",
       "      <td>github_scraping.ipynb</td>\n",
       "      <td>seventh commit</td>\n",
       "      <td>4 days ago</td>\n",
       "    </tr>\n",
       "    <tr>\n",
       "      <th>11</th>\n",
       "      <td>interpark_scraping.ipynb</td>\n",
       "      <td>seventh commit</td>\n",
       "      <td>4 days ago</td>\n",
       "    </tr>\n",
       "    <tr>\n",
       "      <th>12</th>\n",
       "      <td>melon_scraping.ipynb</td>\n",
       "      <td>sixth commit</td>\n",
       "      <td>4 days ago</td>\n",
       "    </tr>\n",
       "    <tr>\n",
       "      <th>13</th>\n",
       "      <td>new01.txt</td>\n",
       "      <td>first commit</td>\n",
       "      <td>5 days ago</td>\n",
       "    </tr>\n",
       "    <tr>\n",
       "      <th>14</th>\n",
       "      <td>scraping_bs4_daum_economic.ipynb</td>\n",
       "      <td>fourth commit</td>\n",
       "      <td>4 days ago</td>\n",
       "    </tr>\n",
       "    <tr>\n",
       "      <th>15</th>\n",
       "      <td>selenium_load.ipynb</td>\n",
       "      <td>fifth commit</td>\n",
       "      <td>4 days ago</td>\n",
       "    </tr>\n",
       "    <tr>\n",
       "      <th>16</th>\n",
       "      <td>starbucks_scraping.ipynb</td>\n",
       "      <td>seventh commit</td>\n",
       "      <td>4 days ago</td>\n",
       "    </tr>\n",
       "    <tr>\n",
       "      <th>17</th>\n",
       "      <td>workshop01.ipynb</td>\n",
       "      <td>fourth commit</td>\n",
       "      <td>5 days ago</td>\n",
       "    </tr>\n",
       "    <tr>\n",
       "      <th>18</th>\n",
       "      <td>youtuberank_scraping.ipynb</td>\n",
       "      <td>seventh commit</td>\n",
       "      <td>4 days ago</td>\n",
       "    </tr>\n",
       "    <tr>\n",
       "      <th>19</th>\n",
       "      <td>youtuberankwithpage.ipynb</td>\n",
       "      <td>seventh commit</td>\n",
       "      <td>4 days ago</td>\n",
       "    </tr>\n",
       "  </tbody>\n",
       "</table>\n",
       "</div>"
      ],
      "text/plain": [
       "                                   0               1           2\n",
       "0                              .idea    first commit  5 days ago\n",
       "1                              files    third commit  5 days ago\n",
       "2                              saves  seventh commit  4 days ago\n",
       "3                         .gitignore  Initial commit  5 days ago\n",
       "4                            LICENSE  Initial commit  5 days ago\n",
       "5                          README.md  Initial commit  5 days ago\n",
       "6       beautifulsoup_htmlload.ipynb    third commit  5 days ago\n",
       "7                      bs_tags.ipynb    third commit  5 days ago\n",
       "8                   chromedriver.exe   fourth commit  4 days ago\n",
       "9               genie_scraping.ipynb  seventh commit  4 days ago\n",
       "10             github_scraping.ipynb  seventh commit  4 days ago\n",
       "11          interpark_scraping.ipynb  seventh commit  4 days ago\n",
       "12              melon_scraping.ipynb    sixth commit  4 days ago\n",
       "13                         new01.txt    first commit  5 days ago\n",
       "14  scraping_bs4_daum_economic.ipynb   fourth commit  4 days ago\n",
       "15               selenium_load.ipynb    fifth commit  4 days ago\n",
       "16          starbucks_scraping.ipynb  seventh commit  4 days ago\n",
       "17                  workshop01.ipynb   fourth commit  5 days ago\n",
       "18        youtuberank_scraping.ipynb  seventh commit  4 days ago\n",
       "19         youtuberankwithpage.ipynb  seventh commit  4 days ago"
      ]
     },
     "execution_count": 45,
     "metadata": {},
     "output_type": "execute_result"
    }
   ],
   "source": [
    "pd.DataFrame(contents)"
   ]
  },
  {
   "cell_type": "code",
   "execution_count": 46,
   "id": "124bc95d",
   "metadata": {},
   "outputs": [],
   "source": [
    "pd_data= pd.DataFrame(contents, columns=['title', 'commit message', 'date'])"
   ]
  },
  {
   "cell_type": "code",
   "execution_count": 47,
   "id": "f8f26663",
   "metadata": {},
   "outputs": [],
   "source": [
    "pd_data.to_excel('./saves/github_scraping.xls', index= False)"
   ]
  },
  {
   "cell_type": "code",
   "execution_count": null,
   "id": "9587299f",
   "metadata": {},
   "outputs": [],
   "source": []
  }
 ],
 "metadata": {
  "kernelspec": {
   "display_name": "Python 3",
   "language": "python",
   "name": "python3"
  },
  "language_info": {
   "codemirror_mode": {
    "name": "ipython",
    "version": 3
   },
   "file_extension": ".py",
   "mimetype": "text/x-python",
   "name": "python",
   "nbconvert_exporter": "python",
   "pygments_lexer": "ipython3",
   "version": "3.6.4"
  }
 },
 "nbformat": 4,
 "nbformat_minor": 5
}

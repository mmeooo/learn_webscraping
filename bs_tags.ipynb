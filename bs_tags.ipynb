{
 "cells": [
  {
   "cell_type": "code",
   "execution_count": 7,
   "id": "efc7a437",
   "metadata": {},
   "outputs": [],
   "source": [
    "from bs4 import BeautifulSoup"
   ]
  },
  {
   "cell_type": "code",
   "execution_count": 3,
   "id": "8b9c72be",
   "metadata": {},
   "outputs": [],
   "source": [
    "html = '''\n",
    "<html>\n",
    "    <head>\n",
    "    </head>\n",
    "    <body>\n",
    "        <h1> 우리동네시장</h1>\n",
    "            <div class = 'sale'>\n",
    "                <p id='fruits1' class='fruits'>\n",
    "                    <span class = 'name'> 바나나 </span>\n",
    "                    <span class = 'price'> 3000원 </span>\n",
    "                    <span class = 'inventory'> 500개 </span>\n",
    "                    <span class = 'store'> 가나다상회 </span>\n",
    "                    <a href = 'http://bit.ly/forPlaywithData' > 홈페이지 </a>\n",
    "                </p>\n",
    "            </div>\n",
    "            <div class = 'prepare'>\n",
    "                <p id='fruits2' class='fruits'>\n",
    "                    <span class ='name'> 파인애플 </span>\n",
    "                </p>\n",
    "            </div>\n",
    "    </body>\n",
    "</html>\n",
    "'''"
   ]
  },
  {
   "cell_type": "code",
   "execution_count": 8,
   "id": "0eb24abc",
   "metadata": {},
   "outputs": [],
   "source": [
    "soup= BeautifulSoup(html, 'html.parser')"
   ]
  },
  {
   "cell_type": "code",
   "execution_count": 15,
   "id": "3d05b165",
   "metadata": {},
   "outputs": [],
   "source": [
    "span= soup.select('span')"
   ]
  },
  {
   "cell_type": "code",
   "execution_count": 16,
   "id": "6cbdc192",
   "metadata": {},
   "outputs": [
    {
     "data": {
      "text/plain": [
       "(bs4.element.ResultSet,\n",
       " [<span class=\"name\"> 바나나 </span>,\n",
       "  <span class=\"price\"> 3000원 </span>,\n",
       "  <span class=\"inventory\"> 500개 </span>,\n",
       "  <span class=\"store\"> 가나다상회 </span>,\n",
       "  <span class=\"name\"> 파인애플 </span>])"
      ]
     },
     "execution_count": 16,
     "metadata": {},
     "output_type": "execute_result"
    }
   ],
   "source": [
    "type(span), span"
   ]
  },
  {
   "cell_type": "code",
   "execution_count": 12,
   "id": "69ebca31",
   "metadata": {},
   "outputs": [
    {
     "data": {
      "text/plain": [
       "<span class=\"name\"> 바나나 </span>"
      ]
     },
     "execution_count": 12,
     "metadata": {},
     "output_type": "execute_result"
    }
   ],
   "source": [
    "span[0]"
   ]
  },
  {
   "cell_type": "code",
   "execution_count": 18,
   "id": "50d27a23",
   "metadata": {},
   "outputs": [],
   "source": [
    "fruits= soup.select('#fruits1')"
   ]
  },
  {
   "cell_type": "code",
   "execution_count": 19,
   "id": "f56c6fd3",
   "metadata": {},
   "outputs": [
    {
     "data": {
      "text/plain": [
       "(bs4.element.ResultSet,\n",
       " [<p class=\"fruits\" id=\"fruits1\">\n",
       "  <span class=\"name\"> 바나나 </span>\n",
       "  <span class=\"price\"> 3000원 </span>\n",
       "  <span class=\"inventory\"> 500개 </span>\n",
       "  <span class=\"store\"> 가나다상회 </span>\n",
       "  <a href=\"http://bit.ly/forPlaywithData\"> 홈페이지 </a>\n",
       "  </p>])"
      ]
     },
     "execution_count": 19,
     "metadata": {},
     "output_type": "execute_result"
    }
   ],
   "source": [
    "type(fruits), fruits"
   ]
  },
  {
   "cell_type": "code",
   "execution_count": 20,
   "id": "e404a6c5",
   "metadata": {},
   "outputs": [
    {
     "data": {
      "text/plain": [
       "1"
      ]
     },
     "execution_count": 20,
     "metadata": {},
     "output_type": "execute_result"
    }
   ],
   "source": [
    "len(fruits)"
   ]
  },
  {
   "cell_type": "code",
   "execution_count": 22,
   "id": "a7ca62ae",
   "metadata": {},
   "outputs": [],
   "source": [
    "result= soup.select('.inventory')"
   ]
  },
  {
   "cell_type": "code",
   "execution_count": 23,
   "id": "f04cd51e",
   "metadata": {},
   "outputs": [
    {
     "data": {
      "text/plain": [
       "1"
      ]
     },
     "execution_count": 23,
     "metadata": {},
     "output_type": "execute_result"
    }
   ],
   "source": [
    "len(result)"
   ]
  },
  {
   "cell_type": "code",
   "execution_count": 24,
   "id": "9017bb9c",
   "metadata": {},
   "outputs": [
    {
     "data": {
      "text/plain": [
       "(bs4.element.ResultSet, [<span class=\"inventory\"> 500개 </span>])"
      ]
     },
     "execution_count": 24,
     "metadata": {},
     "output_type": "execute_result"
    }
   ],
   "source": [
    "type(result), result"
   ]
  },
  {
   "cell_type": "code",
   "execution_count": 25,
   "id": "a2da00a3",
   "metadata": {},
   "outputs": [],
   "source": [
    "result= soup.select('span.price')"
   ]
  },
  {
   "cell_type": "code",
   "execution_count": 26,
   "id": "5a7a5883",
   "metadata": {},
   "outputs": [
    {
     "data": {
      "text/plain": [
       "(bs4.element.ResultSet, [<span class=\"price\"> 3000원 </span>])"
      ]
     },
     "execution_count": 26,
     "metadata": {},
     "output_type": "execute_result"
    }
   ],
   "source": [
    "type(result), result"
   ]
  },
  {
   "cell_type": "code",
   "execution_count": 27,
   "id": "16dc6828",
   "metadata": {},
   "outputs": [],
   "source": [
    "result= soup.select('p#fruits1 > span.name')"
   ]
  },
  {
   "cell_type": "code",
   "execution_count": 28,
   "id": "d704dea7",
   "metadata": {},
   "outputs": [
    {
     "data": {
      "text/plain": [
       "(bs4.element.ResultSet, [<span class=\"name\"> 바나나 </span>])"
      ]
     },
     "execution_count": 28,
     "metadata": {},
     "output_type": "execute_result"
    }
   ],
   "source": [
    "type(result), result"
   ]
  },
  {
   "cell_type": "code",
   "execution_count": 29,
   "id": "3a96e1e8",
   "metadata": {},
   "outputs": [],
   "source": [
    "result= soup.select('.name')"
   ]
  },
  {
   "cell_type": "code",
   "execution_count": 30,
   "id": "fb474b47",
   "metadata": {},
   "outputs": [
    {
     "data": {
      "text/plain": [
       "(bs4.element.ResultSet,\n",
       " [<span class=\"name\"> 바나나 </span>, <span class=\"name\"> 파인애플 </span>])"
      ]
     },
     "execution_count": 30,
     "metadata": {},
     "output_type": "execute_result"
    }
   ],
   "source": [
    "type(result), result"
   ]
  },
  {
   "cell_type": "code",
   "execution_count": 31,
   "id": "eab618c1",
   "metadata": {},
   "outputs": [
    {
     "data": {
      "text/plain": [
       "2"
      ]
     },
     "execution_count": 31,
     "metadata": {},
     "output_type": "execute_result"
    }
   ],
   "source": [
    "len(result)"
   ]
  },
  {
   "cell_type": "code",
   "execution_count": 35,
   "id": "5f978256",
   "metadata": {},
   "outputs": [
    {
     "name": "stdout",
     "output_type": "stream",
     "text": [
      "<span class=\"name\"> 바나나 </span>\n",
      "<span class=\"name\"> 파인애플 </span>\n"
     ]
    }
   ],
   "source": [
    "for tag in result:\n",
    "    print(tag)"
   ]
  },
  {
   "cell_type": "code",
   "execution_count": 36,
   "id": "eaf0a769",
   "metadata": {},
   "outputs": [
    {
     "data": {
      "text/plain": [
       "<span class=\"name\"> 바나나 </span>"
      ]
     },
     "execution_count": 36,
     "metadata": {},
     "output_type": "execute_result"
    }
   ],
   "source": [
    "result[0]"
   ]
  },
  {
   "cell_type": "code",
   "execution_count": 37,
   "id": "17255f08",
   "metadata": {},
   "outputs": [
    {
     "data": {
      "text/plain": [
       "<span class=\"name\"> 파인애플 </span>"
      ]
     },
     "execution_count": 37,
     "metadata": {},
     "output_type": "execute_result"
    }
   ],
   "source": [
    "result[1]"
   ]
  },
  {
   "cell_type": "code",
   "execution_count": 39,
   "id": "69dba9f7",
   "metadata": {},
   "outputs": [],
   "source": [
    "s= result[0].text"
   ]
  },
  {
   "cell_type": "code",
   "execution_count": 40,
   "id": "bfdfbd95",
   "metadata": {},
   "outputs": [
    {
     "data": {
      "text/plain": [
       "'바나나'"
      ]
     },
     "execution_count": 40,
     "metadata": {},
     "output_type": "execute_result"
    }
   ],
   "source": [
    "s.strip()"
   ]
  },
  {
   "cell_type": "code",
   "execution_count": 41,
   "id": "387da68d",
   "metadata": {},
   "outputs": [
    {
     "data": {
      "text/plain": [
       "'바나나'"
      ]
     },
     "execution_count": 41,
     "metadata": {},
     "output_type": "execute_result"
    }
   ],
   "source": [
    "result[0].text.strip()"
   ]
  },
  {
   "cell_type": "code",
   "execution_count": 43,
   "id": "721ada9b",
   "metadata": {},
   "outputs": [
    {
     "name": "stdout",
     "output_type": "stream",
     "text": [
      "바나나\n",
      "파인애플\n"
     ]
    }
   ],
   "source": [
    "for tag in result:\n",
    "    print(tag.text.strip())"
   ]
  },
  {
   "cell_type": "code",
   "execution_count": 44,
   "id": "5f399deb",
   "metadata": {},
   "outputs": [
    {
     "data": {
      "text/plain": [
       "['name']"
      ]
     },
     "execution_count": 44,
     "metadata": {},
     "output_type": "execute_result"
    }
   ],
   "source": [
    "result[0]['class']"
   ]
  },
  {
   "cell_type": "code",
   "execution_count": 45,
   "id": "8b4503e5",
   "metadata": {},
   "outputs": [
    {
     "data": {
      "text/plain": [
       "list"
      ]
     },
     "execution_count": 45,
     "metadata": {},
     "output_type": "execute_result"
    }
   ],
   "source": [
    "type(result[0]['class'])"
   ]
  },
  {
   "cell_type": "code",
   "execution_count": 46,
   "id": "2ff8e21f",
   "metadata": {},
   "outputs": [],
   "source": [
    "cls= result[0]['class']"
   ]
  },
  {
   "cell_type": "code",
   "execution_count": 47,
   "id": "adb55ad8",
   "metadata": {},
   "outputs": [
    {
     "data": {
      "text/plain": [
       "'name'"
      ]
     },
     "execution_count": 47,
     "metadata": {},
     "output_type": "execute_result"
    }
   ],
   "source": [
    "result[0]['class'][0]"
   ]
  },
  {
   "cell_type": "code",
   "execution_count": 48,
   "id": "899b5388",
   "metadata": {},
   "outputs": [
    {
     "data": {
      "text/plain": [
       "'name'"
      ]
     },
     "execution_count": 48,
     "metadata": {},
     "output_type": "execute_result"
    }
   ],
   "source": [
    "cls[0]"
   ]
  },
  {
   "cell_type": "code",
   "execution_count": 49,
   "id": "e1ebdd97",
   "metadata": {},
   "outputs": [
    {
     "name": "stdout",
     "output_type": "stream",
     "text": [
      "바나나 name\n",
      "파인애플 name\n"
     ]
    }
   ],
   "source": [
    "for tag in result:\n",
    "    print(tag.text.strip(), tag['class'][0])"
   ]
  },
  {
   "cell_type": "code",
   "execution_count": null,
   "id": "7cdb6f06",
   "metadata": {},
   "outputs": [],
   "source": []
  }
 ],
 "metadata": {
  "kernelspec": {
   "display_name": "Python 3",
   "language": "python",
   "name": "python3"
  },
  "language_info": {
   "codemirror_mode": {
    "name": "ipython",
    "version": 3
   },
   "file_extension": ".py",
   "mimetype": "text/x-python",
   "name": "python",
   "nbconvert_exporter": "python",
   "pygments_lexer": "ipython3",
   "version": "3.6.4"
  }
 },
 "nbformat": 4,
 "nbformat_minor": 5
}

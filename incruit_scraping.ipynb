{
 "cells": [
  {
   "cell_type": "markdown",
   "id": "777ee412",
   "metadata": {},
   "source": [
    "https://job.incruit.com/entry/"
   ]
  },
  {
   "cell_type": "code",
   "execution_count": 1,
   "id": "1871ed7b",
   "metadata": {},
   "outputs": [],
   "source": [
    "from selenium import webdriver"
   ]
  },
  {
   "cell_type": "code",
   "execution_count": 2,
   "id": "719b82d3",
   "metadata": {},
   "outputs": [],
   "source": [
    "browser= webdriver.Chrome('./chromedriver.exe')"
   ]
  },
  {
   "cell_type": "code",
   "execution_count": 3,
   "id": "ea093908",
   "metadata": {},
   "outputs": [],
   "source": [
    "browser.get('https://job.incruit.com/entry/')"
   ]
  },
  {
   "cell_type": "code",
   "execution_count": 4,
   "id": "76d65028",
   "metadata": {},
   "outputs": [],
   "source": [
    "html= browser.page_source"
   ]
  },
  {
   "cell_type": "code",
   "execution_count": 5,
   "id": "8a9dbbd8",
   "metadata": {},
   "outputs": [],
   "source": [
    "from bs4 import BeautifulSoup"
   ]
  },
  {
   "cell_type": "code",
   "execution_count": 6,
   "id": "623bd2df",
   "metadata": {},
   "outputs": [],
   "source": [
    "soup= BeautifulSoup(html, 'html.parser')"
   ]
  },
  {
   "cell_type": "code",
   "execution_count": 8,
   "id": "957dd9b7",
   "metadata": {},
   "outputs": [
    {
     "data": {
      "text/plain": [
       "(100, bs4.element.ResultSet)"
      ]
     },
     "execution_count": 8,
     "metadata": {},
     "output_type": "execute_result"
    }
   ],
   "source": [
    "tags= soup.select('table[summary=\"채용정보 목록\"]> tbody> tr')\n",
    "len(tags), type(tags)"
   ]
  },
  {
   "cell_type": "code",
   "execution_count": 9,
   "id": "0c7d97a6",
   "metadata": {},
   "outputs": [],
   "source": [
    "tag= tags[0]"
   ]
  },
  {
   "cell_type": "markdown",
   "id": "33c8faef",
   "metadata": {},
   "source": [
    "* 회사명:span> a[class=\"strong\"]\n",
    "* 채용제목: span> a[slot-sort]\n",
    "* 마감일:div[class= \"ddays\"]"
   ]
  },
  {
   "cell_type": "code",
   "execution_count": 10,
   "id": "a427a4da",
   "metadata": {},
   "outputs": [],
   "source": [
    "name= tag.select('a[class=\"strong\"]')"
   ]
  },
  {
   "cell_type": "code",
   "execution_count": 11,
   "id": "efeb5683",
   "metadata": {},
   "outputs": [
    {
     "data": {
      "text/plain": [
       "(1,\n",
       " bs4.element.ResultSet,\n",
       " <a class=\"strong\" href=\"https://www.incruit.com/company/191035\" title=\"(주)BGF리테일\"> (주)BGF리테일 </a>)"
      ]
     },
     "execution_count": 11,
     "metadata": {},
     "output_type": "execute_result"
    }
   ],
   "source": [
    "len(name), type(name), name[0]"
   ]
  },
  {
   "cell_type": "code",
   "execution_count": 12,
   "id": "4ac81f7b",
   "metadata": {},
   "outputs": [
    {
     "data": {
      "text/plain": [
       "'(주)BGF리테일'"
      ]
     },
     "execution_count": 12,
     "metadata": {},
     "output_type": "execute_result"
    }
   ],
   "source": [
    "name[0].text.strip()"
   ]
  },
  {
   "cell_type": "code",
   "execution_count": 13,
   "id": "3da8a460",
   "metadata": {},
   "outputs": [],
   "source": [
    "title= tag.select('span> a[slot-sort]')"
   ]
  },
  {
   "cell_type": "code",
   "execution_count": 14,
   "id": "08839f16",
   "metadata": {},
   "outputs": [
    {
     "data": {
      "text/plain": [
       "(1,\n",
       " bs4.element.ResultSet,\n",
       " <a class=\"links JobtitleLink_2106250001018\" href=\"https://job.incruit.com/entry/jobpost.asp?job=2106250001018\" slot-sort=\"19394450-0\" target=\"_blank\" title=\"[BGF리테일] 2021년 하계 채용연계형 인턴사원 채용\"> [BGF리테일] 2021년 하계 채용연계형 인턴사원 채용 </a>)"
      ]
     },
     "execution_count": 14,
     "metadata": {},
     "output_type": "execute_result"
    }
   ],
   "source": [
    "len(title), type(title), title[0]"
   ]
  },
  {
   "cell_type": "code",
   "execution_count": 15,
   "id": "50e8b4cb",
   "metadata": {},
   "outputs": [
    {
     "data": {
      "text/plain": [
       "'[BGF리테일] 2021년 하계 채용연계형 인턴사원 채용'"
      ]
     },
     "execution_count": 15,
     "metadata": {},
     "output_type": "execute_result"
    }
   ],
   "source": [
    "title[0].text.strip()"
   ]
  },
  {
   "cell_type": "code",
   "execution_count": 16,
   "id": "173fa7da",
   "metadata": {},
   "outputs": [],
   "source": [
    "date= tag.select('div[class= \"ddays\"]')"
   ]
  },
  {
   "cell_type": "code",
   "execution_count": 17,
   "id": "5c4514c4",
   "metadata": {},
   "outputs": [
    {
     "data": {
      "text/plain": [
       "(1,\n",
       " bs4.element.ResultSet,\n",
       " <div class=\"ddays\">\n",
       " <p></p><p><button class=\"btns_job_gongche thin\" onclick=\"goCL(this,'19082','job','(주)BGF리테일');window.open('https://www.incruit.com/company/191035/referenceroom/','OpenEmp','');\" type=\"button\">취업자료</button></p><p>~07.05 (월)</p>\n",
       " </div>)"
      ]
     },
     "execution_count": 17,
     "metadata": {},
     "output_type": "execute_result"
    }
   ],
   "source": [
    "len(date), type(date), date[0]"
   ]
  },
  {
   "cell_type": "code",
   "execution_count": 18,
   "id": "0d0ceb7d",
   "metadata": {},
   "outputs": [
    {
     "data": {
      "text/plain": [
       "'취업자료~07.05 (월)'"
      ]
     },
     "execution_count": 18,
     "metadata": {},
     "output_type": "execute_result"
    }
   ],
   "source": [
    "date[0].text.strip()"
   ]
  },
  {
   "cell_type": "code",
   "execution_count": 19,
   "id": "8fa129d8",
   "metadata": {},
   "outputs": [
    {
     "data": {
      "text/plain": [
       "[['(주)BGF리테일', '[BGF리테일] 2021년 하계 채용연계형 인턴사원 채용', '취업자료~07.05 (월)'],\n",
       " ['(주)KCC', '[KCC] 2021년 부문별 상시 채용', '상시'],\n",
       " ['한국해양수산연수원', '한국해양수산연수원 2021년 제3차 직원 채용 공고', '취업자료~07.08 (목)'],\n",
       " ['제주특별자치도청', '2021년도 제2회 제주특별자치도 공공기관 직원 통합 채용', '~07.02 (금)'],\n",
       " ['(주)포스코인터내셔널', '[포스코인터내셔널] 2021년 체험형 인턴 채용', '취업자료~06.30 (수)'],\n",
       " ['연구개발특구진흥재단', '2021년 제3차 직원채용 공고', '취업자료~07.20 (화)'],\n",
       " ['한국예탁결제원', '2021년 신입직원 채용공고', '취업자료~06.30 (수)'],\n",
       " ['NICE정보통신(주)', '[NICE정보통신] 2021년도 수시채용 진행의 건(지역화폐)', '취업자료~07.16 (금)'],\n",
       " ['한국문화재재단', '2021년 제2차 직원 공개채용', '취업자료~07.07 (수)'],\n",
       " ['한국농어촌공사', '7급(무기계약직) 직원 채용', '취업자료\\n14시 마감'],\n",
       " ['한국문학예술저작권협회', '한국문학예술저작권협회 직원 채용 공고', '취업자료\\n23시 마감'],\n",
       " ['한솔섬유(주)', '한솔섬유(주) 인도네시아법인 ME 신입 또는 경력', '채용시'],\n",
       " ['국가철도공단', '2021년도 국가철도공단 직원 채용', '취업자료~07.07 (수)'],\n",
       " ['씨제이프레시웨이(주)', '각 부문별 채용', '취업자료~07.04 (일)'],\n",
       " ['한국지역난방공사', '2021년 신입직원 채용', '취업자료~07.07 (수)'],\n",
       " ['(주)KCC', '[KCC] 울산공장 기술지원 담당 채용', '채용시'],\n",
       " ['남해화학주식회사', '남해화학 신입사원 모집요강', '취업자료~07.01 (목)'],\n",
       " ['DHL KOREA', '광주서비스센터 배송직(쿠리어) 신입 채용 (~6/30)', '취업자료~06.30 (수)'],\n",
       " ['대중소기업농어업협력재단', '일반사무직·전문사무직 직원 채용공고', '취업자료~07.01 (목)'],\n",
       " ['기초과학연구원', '제2021-2회 직원 공개채용 공고', '취업자료~07.09 (금)'],\n",
       " ['경기도농수산진흥원', '2021년 경기도농수산진흥원 직원채용 공고', '취업자료\\n18시 마감'],\n",
       " ['주택도시보증공사', '2021년도 주택도시보증공사 정규직 채용', '취업자료~07.08 (목)'],\n",
       " ['케이카 주식회사', '2021년도 K Car 직원채용', '취업자료~07.11 (일)'],\n",
       " ['한국승강기안전공단', '2021년 하반기 채용형 인턴 채용', '취업자료~07.05 (월)'],\n",
       " ['(주)DB하이텍', '[DB하이텍] 장비엔지니어 경력/신입 채용', '취업자료~07.04 (일)'],\n",
       " ['LG이노텍(주)', '[LG이노텍] 중국어 통번역 전문가 채용(단기계약직)', '취업자료\\n23시 마감'],\n",
       " ['(주)한진', '(주)한진 물류전문인턴 상시 채용', '채용시'],\n",
       " ['(주)엔씨소프트', '각 부문별 모집', '취업자료~08.16 (월)'],\n",
       " ['한국표준협회', '2021년 한국표준협회 정규직 채용 공고', '취업자료~07.12 (월)'],\n",
       " ['(주)에스앤아이코퍼레이션', '[LG그룹 S&I] 곤지암리조트 재경 대졸신입 채용', '취업자료~07.04 (일)'],\n",
       " ['대한무역투자진흥공사', '2021년 3기 체험형 청년인턴 모집', '취업자료~07.12 (월)'],\n",
       " ['SK가스(주)', '채용연계형 인턴 모집(경영기획)', '취업자료\\n23시 마감'],\n",
       " ['씨제이프레시웨이(주)', 'CJ프레시웨이 사무지원(계약직) 신입/경력사원 모집', '취업자료~07.04 (일)'],\n",
       " ['코레일로지스(주)', '제 4차 직원 채용', '취업자료~07.02 (금)'],\n",
       " ['대한무역투자진흥공사', '[채용공고] KOTRA 공무직 채용 공고', '취업자료~07.02 (금)'],\n",
       " ['한국남부발전(주)', '한국남부발전(주) 2021년 상반기 신입(보훈,장애) 및 별정직 채용공고', '취업자료~07.05 (월)'],\n",
       " ['Siemens Ltd. Seoul', '각 부문별 신입/경력 모집', '채용시'],\n",
       " ['한국에너지기술연구원', '2021년도 제1차 신규직원 채용', '취업자료~06.30 (수)'],\n",
       " ['하나손해보험(주)', '영업지점 총무(업무실장) 채용', '상시'],\n",
       " ['코원에너지서비스(주)', '경영지원/영업/CS/안전 대졸 신입사원 채용', '취업자료~07.09 (금)'],\n",
       " ['(주)더존비즈온', '[더존ICT그룹] 2021년 7월 신입 및 경력사원 모집', '취업자료~07.11 (일)'],\n",
       " ['한국보건사회연구원', '한국보건사회연구원 계약직 연구원 채용 공고(보건정책연구실)', '취업자료~07.14 (수)'],\n",
       " ['일정실업 (주)', '재경팀 신입 및 경력사원 모집', '바로지원취업자료채용시'],\n",
       " ['(주)에프앤에프', '[신입] Banila co 재무회계팀 인턴 모집', '취업자료~08.23 (월)'],\n",
       " ['(주)중앙일보', '중앙일보 이노베이션랩 영상 인턴 채용', '취업자료~07.09 (금)'],\n",
       " ['한국보훈복지의료공단', '한국보훈복지의료공단 2021년 사무직 신입사원 채용공고', '취업자료~07.01 (목)'],\n",
       " ['한국해양과학기술원', '2021년 하반기 정규직 및 무기계약직 공개채용 공고', '취업자료~07.12 (월)'],\n",
       " ['근로복지공단', '[유성지사] 사무지원직(복지사업 기간제근로자) 채용 공고', '취업자료~07.02 (금)'],\n",
       " ['한국산지보전협회', '정규직 연구원 채용공고', '취업자료~07.07 (수)'],\n",
       " ['한국과학기술기획평가원', '제2021-2회 한국과학기술기획평가원 정규직 공개채용', '취업자료~07.06 (화)'],\n",
       " ['한국산지보전협회', '2021년 하반기 채용공고', '취업자료~06.30 (수)'],\n",
       " ['(주)약진통상', '(주)약진통상 해외영업/구매 인턴 채용', '취업자료~07.09 (금)'],\n",
       " ['전쟁기념사업회', '[2021-5차] 직원채용 공고', '취업자료~07.09 (금)'],\n",
       " ['주식회사 다스', '21년 하반기 관리직 인턴 채용공고', '취업자료~06.30 (수)'],\n",
       " ['샘표(주)', '[샘표식품] [R&D] 기술연구소 연구원 상시 채용', '상시'],\n",
       " ['네이버(주)', '[Search] NLP 기술 개발 체험형 인턴십 모집', '취업자료~06.30 (수)'],\n",
       " ['(주)KCC', '[KCC] 본사 보건관리 담당 채용', '채용시'],\n",
       " ['(재)한국장애인개발원', '2021년도 전략기획부 예산팀 기간제 계약직 직원 채용', '취업자료~06.30 (수)'],\n",
       " ['한국국방연구원', '한국국방연구원 2021년 전반기 정규직, 무기계약직 채용공고', '취업자료~07.05 (월)'],\n",
       " ['포스코아이씨티(주)', '[포스코ICT] 제철소 건설공사 안전관리자 모집(포항/광양)', '취업자료~06.30 (수)'],\n",
       " ['태양금속공업(주)', '품질검사 신입 알바 채용', '바로지원취업자료~07.17 (토)'],\n",
       " ['(주)한독', 'PV(Pharmacovigilance) Associate/Specialist 모집', '취업자료~06.30 (수)'],\n",
       " ['신풍제약(주)', '2021년 상반기 개발본부 제품개발팀 신입 및 경력 채용 건', '취업자료~07.09 (금)'],\n",
       " ['이연제약(주)', '완제팀 신입사원 채용', '취업자료~08.01 (일)'],\n",
       " ['네오위즈', '[네오위즈] 사업 운영 및 로컬라이제이션 담당자 (인턴)', '취업자료~06.30 (수)'],\n",
       " ['(주)한독', '품질운영실 이화학시험(QC) 담당자 모집', '취업자료~06.30 (수)'],\n",
       " ['대한무역투자진흥공사', '[수시] 2021년 상반기 KOTRA 체험형 인턴(장애인 전형) 수시 모집', '취업자료\\n24시 마감'],\n",
       " ['(주)KCC', '[KCC] 2021년 부문별 상시 채용(연구/생산기술)', '상시'],\n",
       " ['한국기계산업진흥회', '운영지원(총무) 사무업무 직원 채용', '바로지원취업자료~07.05 (월)'],\n",
       " ['(주)안랩', '[신입] SRE 엔지니어 모집', '취업자료~07.08 (목)'],\n",
       " ['광혁건설(주)', '현장 공사, 공무 신입 및 경력 인재 모집', '바로지원취업자료~06.30 (수)'],\n",
       " ['(주)교보문고', '[신입] 재무/회계 신입사원 모집', '취업자료~06.30 (수)'],\n",
       " ['깨끗한나라(주)', '깨끗한나라(주) 사무보조 채용', '취업자료채용시'],\n",
       " ['사조산업(주)', '사조산업(주) 회계팀 신입사원 채용합니다.', '취업자료~07.04 (일)'],\n",
       " ['(주)KCC', '[KCC] 2021년 부문별 상시 채용(재경)', '상시'],\n",
       " ['한국원자력연구원', '2021년도 한국원자력연구원 일반전문계약직 공개경쟁채용 공고', '취업자료~07.09 (금)'],\n",
       " ['네오위즈', '[네오위즈] 재무회계 담당자 (신입)', '취업자료~06.30 (수)'],\n",
       " ['세방전지(주)', '세방전지(주) 광주공장 생산직 공개채용', '취업자료~07.01 (목)'],\n",
       " ['(주)제주국제컨벤션센터', '2021년 제2회 제주특별자치도 공공기관 통합채용', '취업자료~07.02 (금)'],\n",
       " ['(주)엔씨소프트',\n",
       "  '[단기계약직] 러시아어 로컬라이제이션(Localization) 업무 담당자 모집',\n",
       "  '취업자료~08.20 (금)'],\n",
       " ['(주)KCC', '[KCC] 2021년 부문별 상시 채용(안전/환경)', '상시'],\n",
       " ['(주)교보문고', '[신입] [상시모집] 캐셔직 인턴사원', '상시'],\n",
       " ['동원그룹', '[동원산업]부산냉장센터 보관관리(지게차) 경력직모집(채용시 마감)', '채용시'],\n",
       " ['한국과학기술기획평가원', '제2021-2회 한국과학기술기획평가원 정규직(연구직 · 공무직) 공개채용', '취업자료~07.06 (화)'],\n",
       " ['한국유나이티드제약(주)', '해외영업지원팀 신입/경력사원 모집', '취업자료~06.30 (수)'],\n",
       " ['광동제약(주)', '[광동제약] 약국마케팅팀 (계약직) 모집', '취업자료~07.04 (일)'],\n",
       " ['(주)교보문고', '[신입] [상시모집] 물류직 인턴사원', '상시'],\n",
       " ['롯데알미늄(주)', '롯데알미늄 영업부문 신입/경력사원 모집', '취업자료~06.30 (수)'],\n",
       " ['네오위즈', '[네오위즈] 플랫폼 QA 담당자 (인턴)', '취업자료~06.30 (수)'],\n",
       " ['(재)한국장애인개발원', '2021년 제5차 한국장애인개발원 장애아동지원팀 기간제 직원 채용 공고', '취업자료~07.07 (수)'],\n",
       " ['(주)더존비즈온', '[더존ICT그룹] 모바일 개발/서버 개발/서버모형 개발/서비스운영 모집', '취업자료~07.11 (일)'],\n",
       " ['HDC현대산업개발', '[ 현대산업개발 ] 개발/판매/설계 계약직 채용 (사원/대리/과장급)', '채용시'],\n",
       " ['(주)인터파크', '재무회계 부문 수시채용', '취업자료~06.30 (수)'],\n",
       " ['(주)유한양행', '(주)유한양행 중앙연구소 계약직 채용', '취업자료~07.05 (월)'],\n",
       " ['(주)인터파크', '엔터테인먼트(티켓) 부문 수시채용', '취업자료~06.30 (수)'],\n",
       " ['(주)신원', '(주)신원 e-Biz사업부 AMD 계약직 채용', '취업자료~07.04 (일)'],\n",
       " ['(주)더존비즈온', '[더존 ICT그룹] 영업/컨설팅/고객상담 모집', '취업자료~07.11 (일)'],\n",
       " ['한국수자원공사', '[본사/대전] 스마트시티처 특수직(전문기술) 채용', '취업자료\\n18시 마감'],\n",
       " ['한국수자원공사', '[본사/대전] 물환경처 위촉연구직(계약직) 채용', '취업자료~07.06 (화)'],\n",
       " ['교원그룹', '[교원그룹] IT기반기술팀 신입직 수시채용 ( 대외계 SW 개발 및 운영)', '취업자료~07.04 (일)']]"
      ]
     },
     "execution_count": 19,
     "metadata": {},
     "output_type": "execute_result"
    }
   ],
   "source": [
    "contents= []\n",
    "for tag in tags:\n",
    "    name= tag.select('a[class=\"strong\"]')\n",
    "    title= tag.select('span> a[slot-sort]')\n",
    "    date= tag.select('div[class= \"ddays\"]')\n",
    "    contents.append([name[0].text.strip(), title[0].text.strip(), date[0].text.strip()])\n",
    "contents"
   ]
  },
  {
   "cell_type": "code",
   "execution_count": 20,
   "id": "4b97d080",
   "metadata": {},
   "outputs": [],
   "source": [
    "import pandas as pd"
   ]
  },
  {
   "cell_type": "code",
   "execution_count": 21,
   "id": "ebc78151",
   "metadata": {},
   "outputs": [
    {
     "data": {
      "text/html": [
       "<div>\n",
       "<style scoped>\n",
       "    .dataframe tbody tr th:only-of-type {\n",
       "        vertical-align: middle;\n",
       "    }\n",
       "\n",
       "    .dataframe tbody tr th {\n",
       "        vertical-align: top;\n",
       "    }\n",
       "\n",
       "    .dataframe thead th {\n",
       "        text-align: right;\n",
       "    }\n",
       "</style>\n",
       "<table border=\"1\" class=\"dataframe\">\n",
       "  <thead>\n",
       "    <tr style=\"text-align: right;\">\n",
       "      <th></th>\n",
       "      <th>0</th>\n",
       "      <th>1</th>\n",
       "      <th>2</th>\n",
       "    </tr>\n",
       "  </thead>\n",
       "  <tbody>\n",
       "    <tr>\n",
       "      <th>0</th>\n",
       "      <td>(주)BGF리테일</td>\n",
       "      <td>[BGF리테일] 2021년 하계 채용연계형 인턴사원 채용</td>\n",
       "      <td>취업자료~07.05 (월)</td>\n",
       "    </tr>\n",
       "    <tr>\n",
       "      <th>1</th>\n",
       "      <td>(주)KCC</td>\n",
       "      <td>[KCC] 2021년 부문별 상시 채용</td>\n",
       "      <td>상시</td>\n",
       "    </tr>\n",
       "    <tr>\n",
       "      <th>2</th>\n",
       "      <td>한국해양수산연수원</td>\n",
       "      <td>한국해양수산연수원 2021년 제3차 직원 채용 공고</td>\n",
       "      <td>취업자료~07.08 (목)</td>\n",
       "    </tr>\n",
       "    <tr>\n",
       "      <th>3</th>\n",
       "      <td>제주특별자치도청</td>\n",
       "      <td>2021년도 제2회 제주특별자치도 공공기관 직원 통합 채용</td>\n",
       "      <td>~07.02 (금)</td>\n",
       "    </tr>\n",
       "    <tr>\n",
       "      <th>4</th>\n",
       "      <td>(주)포스코인터내셔널</td>\n",
       "      <td>[포스코인터내셔널] 2021년 체험형 인턴 채용</td>\n",
       "      <td>취업자료~06.30 (수)</td>\n",
       "    </tr>\n",
       "    <tr>\n",
       "      <th>...</th>\n",
       "      <td>...</td>\n",
       "      <td>...</td>\n",
       "      <td>...</td>\n",
       "    </tr>\n",
       "    <tr>\n",
       "      <th>95</th>\n",
       "      <td>(주)신원</td>\n",
       "      <td>(주)신원 e-Biz사업부 AMD 계약직 채용</td>\n",
       "      <td>취업자료~07.04 (일)</td>\n",
       "    </tr>\n",
       "    <tr>\n",
       "      <th>96</th>\n",
       "      <td>(주)더존비즈온</td>\n",
       "      <td>[더존 ICT그룹] 영업/컨설팅/고객상담 모집</td>\n",
       "      <td>취업자료~07.11 (일)</td>\n",
       "    </tr>\n",
       "    <tr>\n",
       "      <th>97</th>\n",
       "      <td>한국수자원공사</td>\n",
       "      <td>[본사/대전] 스마트시티처 특수직(전문기술) 채용</td>\n",
       "      <td>취업자료\\n18시 마감</td>\n",
       "    </tr>\n",
       "    <tr>\n",
       "      <th>98</th>\n",
       "      <td>한국수자원공사</td>\n",
       "      <td>[본사/대전] 물환경처 위촉연구직(계약직) 채용</td>\n",
       "      <td>취업자료~07.06 (화)</td>\n",
       "    </tr>\n",
       "    <tr>\n",
       "      <th>99</th>\n",
       "      <td>교원그룹</td>\n",
       "      <td>[교원그룹] IT기반기술팀 신입직 수시채용 ( 대외계 SW 개발 및 운영)</td>\n",
       "      <td>취업자료~07.04 (일)</td>\n",
       "    </tr>\n",
       "  </tbody>\n",
       "</table>\n",
       "<p>100 rows × 3 columns</p>\n",
       "</div>"
      ],
      "text/plain": [
       "              0                                          1               2\n",
       "0     (주)BGF리테일            [BGF리테일] 2021년 하계 채용연계형 인턴사원 채용  취업자료~07.05 (월)\n",
       "1        (주)KCC                      [KCC] 2021년 부문별 상시 채용              상시\n",
       "2     한국해양수산연수원               한국해양수산연수원 2021년 제3차 직원 채용 공고  취업자료~07.08 (목)\n",
       "3      제주특별자치도청           2021년도 제2회 제주특별자치도 공공기관 직원 통합 채용      ~07.02 (금)\n",
       "4   (주)포스코인터내셔널                 [포스코인터내셔널] 2021년 체험형 인턴 채용  취업자료~06.30 (수)\n",
       "..          ...                                        ...             ...\n",
       "95        (주)신원                  (주)신원 e-Biz사업부 AMD 계약직 채용  취업자료~07.04 (일)\n",
       "96     (주)더존비즈온                  [더존 ICT그룹] 영업/컨설팅/고객상담 모집  취업자료~07.11 (일)\n",
       "97      한국수자원공사                [본사/대전] 스마트시티처 특수직(전문기술) 채용    취업자료\\n18시 마감\n",
       "98      한국수자원공사                 [본사/대전] 물환경처 위촉연구직(계약직) 채용  취업자료~07.06 (화)\n",
       "99         교원그룹  [교원그룹] IT기반기술팀 신입직 수시채용 ( 대외계 SW 개발 및 운영)  취업자료~07.04 (일)\n",
       "\n",
       "[100 rows x 3 columns]"
      ]
     },
     "execution_count": 21,
     "metadata": {},
     "output_type": "execute_result"
    }
   ],
   "source": [
    "pd.DataFrame(contents)"
   ]
  },
  {
   "cell_type": "code",
   "execution_count": 22,
   "id": "e477aaf1",
   "metadata": {},
   "outputs": [],
   "source": [
    "pd_data= pd.DataFrame(contents, columns=['company','title', 'date'])"
   ]
  },
  {
   "cell_type": "code",
   "execution_count": 23,
   "id": "3dc67e41",
   "metadata": {},
   "outputs": [],
   "source": [
    "pd_data.to_excel('./saves/incruit_scraping.xls', index= False)"
   ]
  },
  {
   "cell_type": "code",
   "execution_count": null,
   "id": "bcc3dbf8",
   "metadata": {},
   "outputs": [],
   "source": []
  }
 ],
 "metadata": {
  "kernelspec": {
   "display_name": "Python 3",
   "language": "python",
   "name": "python3"
  },
  "language_info": {
   "codemirror_mode": {
    "name": "ipython",
    "version": 3
   },
   "file_extension": ".py",
   "mimetype": "text/x-python",
   "name": "python",
   "nbconvert_exporter": "python",
   "pygments_lexer": "ipython3",
   "version": "3.6.4"
  }
 },
 "nbformat": 4,
 "nbformat_minor": 5
}
